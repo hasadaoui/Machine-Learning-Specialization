{
 "cells": [
  {
   "cell_type": "code",
   "execution_count": 40,
   "metadata": {},
   "outputs": [],
   "source": [
    "# Télécharger les packages\n",
    "import pandas as pd\n",
    "import numpy as np \n",
    "\n",
    "import matplotlib.pyplot as plt\n",
    "import seaborn as sns\n",
    "\n",
    "%matplotlib inline"
   ]
  },
  {
   "cell_type": "code",
   "execution_count": 41,
   "metadata": {},
   "outputs": [],
   "source": [
    "products = pd.read_csv('amazon_baby.csv')"
   ]
  },
  {
   "cell_type": "code",
   "execution_count": 42,
   "metadata": {},
   "outputs": [
    {
     "name": "stdout",
     "output_type": "stream",
     "text": [
      "<class 'pandas.core.frame.DataFrame'>\n",
      "RangeIndex: 183531 entries, 0 to 183530\n",
      "Data columns (total 3 columns):\n",
      "name      183213 non-null object\n",
      "review    182702 non-null object\n",
      "rating    183531 non-null int64\n",
      "dtypes: int64(1), object(2)\n",
      "memory usage: 4.2+ MB\n"
     ]
    }
   ],
   "source": [
    "products.info()"
   ]
  },
  {
   "cell_type": "code",
   "execution_count": 43,
   "metadata": {},
   "outputs": [
    {
     "data": {
      "text/html": [
       "<div>\n",
       "<style scoped>\n",
       "    .dataframe tbody tr th:only-of-type {\n",
       "        vertical-align: middle;\n",
       "    }\n",
       "\n",
       "    .dataframe tbody tr th {\n",
       "        vertical-align: top;\n",
       "    }\n",
       "\n",
       "    .dataframe thead th {\n",
       "        text-align: right;\n",
       "    }\n",
       "</style>\n",
       "<table border=\"1\" class=\"dataframe\">\n",
       "  <thead>\n",
       "    <tr style=\"text-align: right;\">\n",
       "      <th></th>\n",
       "      <th>name</th>\n",
       "      <th>review</th>\n",
       "      <th>rating</th>\n",
       "    </tr>\n",
       "  </thead>\n",
       "  <tbody>\n",
       "    <tr>\n",
       "      <th>0</th>\n",
       "      <td>Planetwise Flannel Wipes</td>\n",
       "      <td>These flannel wipes are OK, but in my opinion ...</td>\n",
       "      <td>3</td>\n",
       "    </tr>\n",
       "    <tr>\n",
       "      <th>1</th>\n",
       "      <td>Planetwise Wipe Pouch</td>\n",
       "      <td>it came early and was not disappointed. i love...</td>\n",
       "      <td>5</td>\n",
       "    </tr>\n",
       "    <tr>\n",
       "      <th>2</th>\n",
       "      <td>Annas Dream Full Quilt with 2 Shams</td>\n",
       "      <td>Very soft and comfortable and warmer than it l...</td>\n",
       "      <td>5</td>\n",
       "    </tr>\n",
       "    <tr>\n",
       "      <th>3</th>\n",
       "      <td>Stop Pacifier Sucking without tears with Thumb...</td>\n",
       "      <td>This is a product well worth the purchase.  I ...</td>\n",
       "      <td>5</td>\n",
       "    </tr>\n",
       "    <tr>\n",
       "      <th>4</th>\n",
       "      <td>Stop Pacifier Sucking without tears with Thumb...</td>\n",
       "      <td>All of my kids have cried non-stop when I trie...</td>\n",
       "      <td>5</td>\n",
       "    </tr>\n",
       "  </tbody>\n",
       "</table>\n",
       "</div>"
      ],
      "text/plain": [
       "                                                name  \\\n",
       "0                           Planetwise Flannel Wipes   \n",
       "1                              Planetwise Wipe Pouch   \n",
       "2                Annas Dream Full Quilt with 2 Shams   \n",
       "3  Stop Pacifier Sucking without tears with Thumb...   \n",
       "4  Stop Pacifier Sucking without tears with Thumb...   \n",
       "\n",
       "                                              review  rating  \n",
       "0  These flannel wipes are OK, but in my opinion ...       3  \n",
       "1  it came early and was not disappointed. i love...       5  \n",
       "2  Very soft and comfortable and warmer than it l...       5  \n",
       "3  This is a product well worth the purchase.  I ...       5  \n",
       "4  All of my kids have cried non-stop when I trie...       5  "
      ]
     },
     "execution_count": 43,
     "metadata": {},
     "output_type": "execute_result"
    }
   ],
   "source": [
    "# Explorer les données\n",
    "products.head()"
   ]
  },
  {
   "cell_type": "code",
   "execution_count": 44,
   "metadata": {},
   "outputs": [
    {
     "data": {
      "text/plain": [
       "0                             Planetwise Flannel Wipes\n",
       "1                                Planetwise Wipe Pouch\n",
       "2                  Annas Dream Full Quilt with 2 Shams\n",
       "3    Stop Pacifier Sucking without tears with Thumb...\n",
       "4    Stop Pacifier Sucking without tears with Thumb...\n",
       "Name: name, dtype: object"
      ]
     },
     "execution_count": 44,
     "metadata": {},
     "output_type": "execute_result"
    }
   ],
   "source": [
    "products['name'].head()"
   ]
  },
  {
   "cell_type": "code",
   "execution_count": 45,
   "metadata": {},
   "outputs": [],
   "source": [
    "#Explore Vulli Sophie"
   ]
  },
  {
   "cell_type": "code",
   "execution_count": 46,
   "metadata": {
    "slideshow": {
     "slide_type": "skip"
    }
   },
   "outputs": [],
   "source": [
    "giraffe_reviews=products[products['name']=='Vulli Sophie the Giraffe Teether']"
   ]
  },
  {
   "cell_type": "code",
   "execution_count": 47,
   "metadata": {},
   "outputs": [
    {
     "data": {
      "text/plain": [
       "(785, 3)"
      ]
     },
     "execution_count": 47,
     "metadata": {},
     "output_type": "execute_result"
    }
   ],
   "source": [
    "giraffe_reviews.shape"
   ]
  },
  {
   "cell_type": "code",
   "execution_count": 48,
   "metadata": {},
   "outputs": [
    {
     "data": {
      "text/html": [
       "<div>\n",
       "<style scoped>\n",
       "    .dataframe tbody tr th:only-of-type {\n",
       "        vertical-align: middle;\n",
       "    }\n",
       "\n",
       "    .dataframe tbody tr th {\n",
       "        vertical-align: top;\n",
       "    }\n",
       "\n",
       "    .dataframe thead th {\n",
       "        text-align: right;\n",
       "    }\n",
       "</style>\n",
       "<table border=\"1\" class=\"dataframe\">\n",
       "  <thead>\n",
       "    <tr style=\"text-align: right;\">\n",
       "      <th></th>\n",
       "      <th>name</th>\n",
       "      <th>review</th>\n",
       "      <th>rating</th>\n",
       "    </tr>\n",
       "  </thead>\n",
       "  <tbody>\n",
       "    <tr>\n",
       "      <th>34313</th>\n",
       "      <td>Vulli Sophie the Giraffe Teether</td>\n",
       "      <td>He likes chewing on all the parts especially t...</td>\n",
       "      <td>5</td>\n",
       "    </tr>\n",
       "    <tr>\n",
       "      <th>34314</th>\n",
       "      <td>Vulli Sophie the Giraffe Teether</td>\n",
       "      <td>My son loves this toy and fits great in the di...</td>\n",
       "      <td>5</td>\n",
       "    </tr>\n",
       "    <tr>\n",
       "      <th>34315</th>\n",
       "      <td>Vulli Sophie the Giraffe Teether</td>\n",
       "      <td>There really should be a large warning on the ...</td>\n",
       "      <td>1</td>\n",
       "    </tr>\n",
       "    <tr>\n",
       "      <th>34316</th>\n",
       "      <td>Vulli Sophie the Giraffe Teether</td>\n",
       "      <td>All the moms in my moms\\' group got Sophie for...</td>\n",
       "      <td>5</td>\n",
       "    </tr>\n",
       "    <tr>\n",
       "      <th>34317</th>\n",
       "      <td>Vulli Sophie the Giraffe Teether</td>\n",
       "      <td>I was a little skeptical on whether Sophie was...</td>\n",
       "      <td>5</td>\n",
       "    </tr>\n",
       "  </tbody>\n",
       "</table>\n",
       "</div>"
      ],
      "text/plain": [
       "                                   name  \\\n",
       "34313  Vulli Sophie the Giraffe Teether   \n",
       "34314  Vulli Sophie the Giraffe Teether   \n",
       "34315  Vulli Sophie the Giraffe Teether   \n",
       "34316  Vulli Sophie the Giraffe Teether   \n",
       "34317  Vulli Sophie the Giraffe Teether   \n",
       "\n",
       "                                                  review  rating  \n",
       "34313  He likes chewing on all the parts especially t...       5  \n",
       "34314  My son loves this toy and fits great in the di...       5  \n",
       "34315  There really should be a large warning on the ...       1  \n",
       "34316  All the moms in my moms\\' group got Sophie for...       5  \n",
       "34317  I was a little skeptical on whether Sophie was...       5  "
      ]
     },
     "execution_count": 48,
     "metadata": {},
     "output_type": "execute_result"
    }
   ],
   "source": [
    "giraffe_reviews.head()"
   ]
  },
  {
   "cell_type": "code",
   "execution_count": 49,
   "metadata": {},
   "outputs": [],
   "source": [
    "#Build a sentiment classifier"
   ]
  },
  {
   "cell_type": "code",
   "execution_count": 50,
   "metadata": {},
   "outputs": [
    {
     "data": {
      "text/plain": [
       "<matplotlib.axes._subplots.AxesSubplot at 0x385cd240>"
      ]
     },
     "execution_count": 50,
     "metadata": {},
     "output_type": "execute_result"
    },
    {
     "data": {
      "image/png": "[encoded data removed]",
      "text/plain": [
       "<Figure size 432x288 with 1 Axes>"
      ]
     },
     "metadata": {},
     "output_type": "display_data"
    }
   ],
   "source": [
    "sns.countplot(x = 'rating' , data = products)"
   ]
  },
  {
   "cell_type": "code",
   "execution_count": 51,
   "metadata": {},
   "outputs": [],
   "source": [
    "##Define what's a positive and negative sentiment\n",
    "#ignore all 3* reviews\n",
    "products = products[products['rating'] != 3]"
   ]
  },
  {
   "cell_type": "code",
   "execution_count": 52,
   "metadata": {},
   "outputs": [],
   "source": [
    "#postitive sentiment=4* or 5*\n",
    "products['sentiment']=products['rating']>=4\n",
    "products['sentiment'] = products['sentiment'].apply(lambda x: 1 if x==True else 0)"
   ]
  },
  {
   "cell_type": "code",
   "execution_count": 53,
   "metadata": {},
   "outputs": [
    {
     "data": {
      "text/html": [
       "<div>\n",
       "<style scoped>\n",
       "    .dataframe tbody tr th:only-of-type {\n",
       "        vertical-align: middle;\n",
       "    }\n",
       "\n",
       "    .dataframe tbody tr th {\n",
       "        vertical-align: top;\n",
       "    }\n",
       "\n",
       "    .dataframe thead th {\n",
       "        text-align: right;\n",
       "    }\n",
       "</style>\n",
       "<table border=\"1\" class=\"dataframe\">\n",
       "  <thead>\n",
       "    <tr style=\"text-align: right;\">\n",
       "      <th></th>\n",
       "      <th>name</th>\n",
       "      <th>review</th>\n",
       "      <th>rating</th>\n",
       "      <th>sentiment</th>\n",
       "    </tr>\n",
       "  </thead>\n",
       "  <tbody>\n",
       "    <tr>\n",
       "      <th>1</th>\n",
       "      <td>Planetwise Wipe Pouch</td>\n",
       "      <td>it came early and was not disappointed. i love...</td>\n",
       "      <td>5</td>\n",
       "      <td>1</td>\n",
       "    </tr>\n",
       "    <tr>\n",
       "      <th>2</th>\n",
       "      <td>Annas Dream Full Quilt with 2 Shams</td>\n",
       "      <td>Very soft and comfortable and warmer than it l...</td>\n",
       "      <td>5</td>\n",
       "      <td>1</td>\n",
       "    </tr>\n",
       "    <tr>\n",
       "      <th>3</th>\n",
       "      <td>Stop Pacifier Sucking without tears with Thumb...</td>\n",
       "      <td>This is a product well worth the purchase.  I ...</td>\n",
       "      <td>5</td>\n",
       "      <td>1</td>\n",
       "    </tr>\n",
       "    <tr>\n",
       "      <th>4</th>\n",
       "      <td>Stop Pacifier Sucking without tears with Thumb...</td>\n",
       "      <td>All of my kids have cried non-stop when I trie...</td>\n",
       "      <td>5</td>\n",
       "      <td>1</td>\n",
       "    </tr>\n",
       "    <tr>\n",
       "      <th>5</th>\n",
       "      <td>Stop Pacifier Sucking without tears with Thumb...</td>\n",
       "      <td>When the Binky Fairy came to our house, we did...</td>\n",
       "      <td>5</td>\n",
       "      <td>1</td>\n",
       "    </tr>\n",
       "  </tbody>\n",
       "</table>\n",
       "</div>"
      ],
      "text/plain": [
       "                                                name  \\\n",
       "1                              Planetwise Wipe Pouch   \n",
       "2                Annas Dream Full Quilt with 2 Shams   \n",
       "3  Stop Pacifier Sucking without tears with Thumb...   \n",
       "4  Stop Pacifier Sucking without tears with Thumb...   \n",
       "5  Stop Pacifier Sucking without tears with Thumb...   \n",
       "\n",
       "                                              review  rating  sentiment  \n",
       "1  it came early and was not disappointed. i love...       5          1  \n",
       "2  Very soft and comfortable and warmer than it l...       5          1  \n",
       "3  This is a product well worth the purchase.  I ...       5          1  \n",
       "4  All of my kids have cried non-stop when I trie...       5          1  \n",
       "5  When the Binky Fairy came to our house, we did...       5          1  "
      ]
     },
     "execution_count": 53,
     "metadata": {},
     "output_type": "execute_result"
    }
   ],
   "source": [
    "products.head()"
   ]
  },
  {
   "cell_type": "markdown",
   "metadata": {},
   "source": [
    "# TF-IDF"
   ]
  },
  {
   "cell_type": "markdown",
   "metadata": {},
   "source": [
    "### Supprimer les données manquantes"
   ]
  },
  {
   "cell_type": "code",
   "execution_count": 54,
   "metadata": {},
   "outputs": [],
   "source": [
    "products = products[products['review'].isna()!=True]"
   ]
  },
  {
   "cell_type": "code",
   "execution_count": 55,
   "metadata": {},
   "outputs": [],
   "source": [
    "from nltk.corpus import stopwords\n",
    "import string\n",
    "from sklearn.feature_extraction.text import CountVectorizer "
   ]
  },
  {
   "cell_type": "code",
   "execution_count": 56,
   "metadata": {},
   "outputs": [],
   "source": [
    "stop_words = stopwords.words('english')"
   ]
  },
  {
   "cell_type": "code",
   "execution_count": 69,
   "metadata": {},
   "outputs": [],
   "source": [
    "import re\n",
    "def text_process(com):\n",
    "    \"\"\"\n",
    "    Prend une chaîne de texte, puis effectue les opérations suivantes :\n",
    "    1. Enlever toute ponctuation\n",
    "    2. Supprimer tous les mots d'arrêt\n",
    "    3. Renvoie une liste du texte nettoyé.\n",
    "    \"\"\"\n",
    "    # Check characters to see if they are in punctuation\n",
    "    #nopunc = re.sub('['+string.punctuation+']', '', com) # ou \n",
    "    nopunc = [char for char in com if char not in string.punctuation]\n",
    "    nopunc = ''.join(nopunc)\n",
    "    \n",
    "    # Now just remove any stopwords\n",
    "    #return [word for word in nopunc.split() if not word.lower() in stop_words]\n",
    "    return [word for word in nopunc.split() if word.lower() not in stopwords.words('english')]"
   ]
  },
  {
   "cell_type": "code",
   "execution_count": 70,
   "metadata": {},
   "outputs": [
    {
     "data": {
      "text/plain": [
       "1     [came, early, disappointed, love, planet, wise...\n",
       "2     [soft, comfortable, warmer, looksfit, full, si...\n",
       "3     [product, well, worth, purchase, found, anythi...\n",
       "4     [kids, cried, nonstop, tried, ween, pacifier, ...\n",
       "5     [Binky, Fairy, came, house, didnt, special, gi...\n",
       "6     [Lovely, book, bound, tightly, may, able, add,...\n",
       "7     [Perfect, new, parents, able, keep, track, bab...\n",
       "8     [friend, mine, pinned, product, Pinterest, dec...\n",
       "9     [easy, way, nanny, record, key, events, happen...\n",
       "10    [love, journal, nanny, uses, everyday, track, ...\n",
       "11    [book, perfect, Im, first, time, new, mom, boo...\n",
       "12    [originally, gave, nanny, pad, paper, write, i...\n",
       "14    [Space, monthly, photos, info, lot, useful, st...\n",
       "15    [bought, calender, second, son, colorful, room...\n",
       "16    [love, little, calender, keep, track, babys, f...\n",
       "Name: review, dtype: object"
      ]
     },
     "execution_count": 70,
     "metadata": {},
     "output_type": "execute_result"
    }
   ],
   "source": [
    "products['review'].head(15).apply(text_process)"
   ]
  },
  {
   "cell_type": "code",
   "execution_count": 82,
   "metadata": {},
   "outputs": [],
   "source": [
    "#products['commentaire'] = products['review'].apply(text_process)"
   ]
  },
  {
   "cell_type": "code",
   "execution_count": 83,
   "metadata": {},
   "outputs": [],
   "source": [
    "import re\n",
    "from nltk.stem.snowball import SnowballStemmer\n",
    "\n",
    "#com = SnowballStemmer(\"english\")\n",
    "products['commentaire'] = products['review'].map(lambda x: re.sub('['+string.punctuation+']', '', x))\n",
    "#products['commentaire'] = products['commentaire'].map(lambda x: re.sub('['+string.whitespace+']', '', x))\n",
    "products['commentaire'] = products['commentaire'].map(lambda x : [word for word in x.split() if not word.lower() in stop_words])"
   ]
  },
  {
   "cell_type": "code",
   "execution_count": 63,
   "metadata": {},
   "outputs": [
    {
     "data": {
      "text/plain": [
       "' \\t\\n\\r\\x0b\\x0c'"
      ]
     },
     "execution_count": 63,
     "metadata": {},
     "output_type": "execute_result"
    }
   ],
   "source": [
    "string.whitespace"
   ]
  },
  {
   "cell_type": "code",
   "execution_count": 64,
   "metadata": {},
   "outputs": [],
   "source": [
    "#test = products[1:5000]\n",
    "#var = CountVectorizer(analyzer=text_process).fit(test['review'])\n",
    "#X = var.transform(test['review'])\n",
    "#y = test['sentiment']\n",
    "#X_train, X_test, y_train, y_test = train_test_split(X, y, test_size=0.25, random_state=42)\n",
    "#logreg = LogisticRegression()\n",
    "#logreg.fit(X_train,y_train)\n",
    "#predictions = logreg.predict(X_test)\n",
    "#from sklearn.metrics import classification_report\n",
    "#print(classification_report(y_test,predictions))"
   ]
  },
  {
   "cell_type": "markdown",
   "metadata": {},
   "source": [
    "# Normalisation de la matrice"
   ]
  },
  {
   "cell_type": "code",
   "execution_count": 98,
   "metadata": {},
   "outputs": [
    {
     "name": "stdout",
     "output_type": "stream",
     "text": [
      "165803\n"
     ]
    }
   ],
   "source": [
    "var = CountVectorizer(analyzer=text_process).fit(products['commentaire'])\n",
    "#var = CountVectorizer(min_df=.0025, max_df=.1, ngram_range=(1,2))\n",
    "#var = var.fit(products['commentaire'])\n",
    "# Imprimer le nombre total de mots de vocabulaire\n",
    "print(len(var.vocabulary_))"
   ]
  },
  {
   "cell_type": "code",
   "execution_count": 102,
   "metadata": {},
   "outputs": [
    {
     "data": {
      "text/plain": [
       "<9x165803 sparse matrix of type '<class 'numpy.int64'>'\n",
       "\twith 9 stored elements in Compressed Sparse Row format>"
      ]
     },
     "execution_count": 102,
     "metadata": {},
     "output_type": "execute_result"
    }
   ],
   "source": [
    "var.transform(products['commentaire'][1:10])"
   ]
  },
  {
   "cell_type": "code",
   "execution_count": null,
   "metadata": {},
   "outputs": [],
   "source": [
    "y = products['sentiment']\n",
    "X = var.transform(products['commentaire'])\n",
    "print(X.shape)"
   ]
  },
  {
   "cell_type": "code",
   "execution_count": 104,
   "metadata": {},
   "outputs": [],
   "source": [
    "from sklearn.linear_model import LogisticRegression\n",
    "from sklearn.cross_validation import train_test_split"
   ]
  },
  {
   "cell_type": "code",
   "execution_count": 105,
   "metadata": {},
   "outputs": [],
   "source": [
    "X_train, X_test, y_train, y_test = train_test_split(X, y, test_size=0.25, random_state=42)"
   ]
  },
  {
   "cell_type": "code",
   "execution_count": null,
   "metadata": {},
   "outputs": [],
   "source": [
    "#Let training the sentiment classifier"
   ]
  },
  {
   "cell_type": "code",
   "execution_count": 107,
   "metadata": {},
   "outputs": [
    {
     "data": {
      "text/plain": [
       "LogisticRegression(C=1.0, class_weight=None, dual=False, fit_intercept=True,\n",
       "          intercept_scaling=1, max_iter=100, multi_class='ovr', n_jobs=1,\n",
       "          penalty='l2', random_state=None, solver='liblinear', tol=0.0001,\n",
       "          verbose=0, warm_start=False)"
      ]
     },
     "execution_count": 107,
     "metadata": {},
     "output_type": "execute_result"
    }
   ],
   "source": [
    "model = LogisticRegression()\n",
    "model.fit(X_train,y_train)"
   ]
  },
  {
   "cell_type": "code",
   "execution_count": 108,
   "metadata": {},
   "outputs": [],
   "source": [
    "predictions = model.predict(X_test)"
   ]
  },
  {
   "cell_type": "code",
   "execution_count": 109,
   "metadata": {},
   "outputs": [],
   "source": [
    "#Evaluate the sentiment model"
   ]
  },
  {
   "cell_type": "code",
   "execution_count": 112,
   "metadata": {},
   "outputs": [
    {
     "name": "stdout",
     "output_type": "stream",
     "text": [
      "             precision    recall  f1-score   support\n",
      "\n",
      "          0       0.00      0.00      0.00      6568\n",
      "          1       0.84      1.00      0.91     34926\n",
      "\n",
      "avg / total       0.71      0.84      0.77     41494\n",
      "\n"
     ]
    },
    {
     "name": "stderr",
     "output_type": "stream",
     "text": [
      "C:\\Users\\sadaouih\\AppData\\Local\\Continuum\\anaconda3\\envs\\dscience-env\\lib\\site-packages\\sklearn\\metrics\\classification.py:1074: UndefinedMetricWarning: Precision and F-score are ill-defined and being set to 0.0 in labels with no predicted samples.\n",
      "  'precision', 'predicted', average, warn_for)\n"
     ]
    }
   ],
   "source": [
    "from sklearn.metrics import classification_report\n",
    "print(classification_report(y_test,predictions))"
   ]
  },
  {
   "cell_type": "markdown",
   "metadata": {
    "collapsed": true
   },
   "source": [
    "### Applying the learned model to understand sentiment for giraffe"
   ]
  },
  {
   "cell_type": "code",
   "execution_count": null,
   "metadata": {},
   "outputs": [],
   "source": [
    "giraffe_reviews.head()"
   ]
  },
  {
   "cell_type": "code",
   "execution_count": 134,
   "metadata": {
    "collapsed": true
   },
   "outputs": [],
   "source": [
    "## sort rhe reviews based on the predicted sentiment and explore "
   ]
  },
  {
   "cell_type": "code",
   "execution_count": 135,
   "metadata": {},
   "outputs": [],
   "source": [
    "giraffe_reviews=giraffe_reviews.sort('predicted_sentiment',ascending=False)"
   ]
  },
  {
   "cell_type": "code",
   "execution_count": 137,
   "metadata": {},
   "outputs": [
    {
     "data": {
      "text/plain": [
       "(785, 5)"
      ]
     },
     "execution_count": 137,
     "metadata": {},
     "output_type": "execute_result"
    }
   ],
   "source": [
    "giraffe_reviews.shape"
   ]
  },
  {
   "cell_type": "code",
   "execution_count": 138,
   "metadata": {},
   "outputs": [
    {
     "data": {
      "text/plain": [
       "{'name': 'Vulli Sophie the Giraffe Teether',\n",
       " 'predicted_sentiment': 1.0,\n",
       " 'rating': 5.0,\n",
       " 'review': \"Sophie, oh Sophie, your time has come. My granddaughter, Violet is 5 months old and starting to teeth. What joy little Sophie brings to Violet. Sophie is made of a very pliable rubber that is sturdy but not tough. It is quite easy for Violet to twist Sophie into unheard of positions to get Sophie into her mouth. The little nose and hooves fit perfectly into small mouths, and the drooling has purpose. The paint on Sophie is food quality.Sophie was born in 1961 in France. The maker had wondered why there was nothing available for babies and made Sophie from the finest rubber, phthalate-free on St Sophie's Day, thus the name was born. Since that time millions of Sophie's populate the world. She is soft and for babies little hands easy to grasp. Violet especially loves the bumpy head and horns of Sophie. Sophie has a long neck that easy to grasp and twist. She has lovely, sizable spots that attract Violet's attention. Sophie has happy little squeaks that bring squeals of delight from Violet. She is able to make Sophie squeak and that brings much joy. Sophie's smooth skin is soothing to Violet's little gums. Sophie is 7 inches tall and is the exact correct size for babies to hold and love.As you well know the first thing babies grasp, goes into their mouths- how wonderful to have a toy that stimulates all of the senses and helps with the issue of teething. Sophie is small enough to fit into any size pocket or bag. Sophie is the perfect find for babies from a few months to a year old. How wonderful to hear the giggles and laughs that emanate from babies who find Sophie irresistible. Viva La Sophie!Highly Recommended.  prisrob 12-11-09\",\n",
       " 'word_count': {'12-11-09': 1L,\n",
       "  '1961': 1L,\n",
       "  '5': 1L,\n",
       "  '7': 1L,\n",
       "  'a': 5L,\n",
       "  'able': 1L,\n",
       "  'all': 1L,\n",
       "  'and': 12L,\n",
       "  'any': 1L,\n",
       "  'attention.': 1L,\n",
       "  'attract': 1L,\n",
       "  'available': 1L,\n",
       "  'babies': 6L,\n",
       "  'bag.': 1L,\n",
       "  'born': 1L,\n",
       "  'born.': 1L,\n",
       "  'bring': 1L,\n",
       "  'brings': 2L,\n",
       "  'bumpy': 1L,\n",
       "  'but': 1L,\n",
       "  'come.': 1L,\n",
       "  'correct': 1L,\n",
       "  'day,': 1L,\n",
       "  'delight': 1L,\n",
       "  'drooling': 1L,\n",
       "  'easy': 3L,\n",
       "  'emanate': 1L,\n",
       "  'enough': 1L,\n",
       "  'especially': 1L,\n",
       "  'exact': 1L,\n",
       "  'few': 1L,\n",
       "  'find': 2L,\n",
       "  'finest': 1L,\n",
       "  'first': 1L,\n",
       "  'fit': 2L,\n",
       "  'food': 1L,\n",
       "  'for': 5L,\n",
       "  'france.': 1L,\n",
       "  'from': 4L,\n",
       "  'get': 1L,\n",
       "  'giggles': 1L,\n",
       "  'goes': 1L,\n",
       "  'granddaughter,': 1L,\n",
       "  'grasp': 1L,\n",
       "  'grasp,': 1L,\n",
       "  'grasp.': 1L,\n",
       "  'gums.': 1L,\n",
       "  'had': 1L,\n",
       "  'hands': 1L,\n",
       "  'happy': 1L,\n",
       "  'has': 5L,\n",
       "  'have': 1L,\n",
       "  'head': 1L,\n",
       "  'hear': 1L,\n",
       "  'helps': 1L,\n",
       "  'her': 1L,\n",
       "  'hold': 1L,\n",
       "  'hooves': 1L,\n",
       "  'horns': 1L,\n",
       "  'how': 2L,\n",
       "  'in': 2L,\n",
       "  'inches': 1L,\n",
       "  'into': 5L,\n",
       "  'irresistible.': 1L,\n",
       "  'is': 12L,\n",
       "  'issue': 1L,\n",
       "  'it': 1L,\n",
       "  'joy': 1L,\n",
       "  'joy.': 1L,\n",
       "  'know': 1L,\n",
       "  'la': 1L,\n",
       "  'laughs': 1L,\n",
       "  'little': 5L,\n",
       "  'long': 1L,\n",
       "  'love.as': 1L,\n",
       "  'lovely,': 1L,\n",
       "  'loves': 1L,\n",
       "  'made': 2L,\n",
       "  'make': 1L,\n",
       "  'maker': 1L,\n",
       "  'millions': 1L,\n",
       "  'months': 2L,\n",
       "  'mouth.': 1L,\n",
       "  'mouths,': 1L,\n",
       "  'mouths-': 1L,\n",
       "  'much': 1L,\n",
       "  'my': 1L,\n",
       "  'name': 1L,\n",
       "  'neck': 1L,\n",
       "  'nose': 1L,\n",
       "  'not': 1L,\n",
       "  'nothing': 1L,\n",
       "  'of': 7L,\n",
       "  'oh': 1L,\n",
       "  'old': 1L,\n",
       "  'old.': 1L,\n",
       "  'on': 2L,\n",
       "  'or': 1L,\n",
       "  'paint': 1L,\n",
       "  'perfect': 1L,\n",
       "  'perfectly': 1L,\n",
       "  'phthalate-free': 1L,\n",
       "  'pliable': 1L,\n",
       "  'pocket': 1L,\n",
       "  'populate': 1L,\n",
       "  'positions': 1L,\n",
       "  'prisrob': 1L,\n",
       "  'purpose.': 1L,\n",
       "  'quality.sophie': 1L,\n",
       "  'quite': 1L,\n",
       "  'recommended.': 1L,\n",
       "  'rubber': 1L,\n",
       "  'rubber,': 1L,\n",
       "  'senses': 1L,\n",
       "  'she': 3L,\n",
       "  'since': 1L,\n",
       "  'sizable': 1L,\n",
       "  'size': 2L,\n",
       "  'skin': 1L,\n",
       "  'small': 2L,\n",
       "  'smooth': 1L,\n",
       "  'soft': 1L,\n",
       "  'soothing': 1L,\n",
       "  'sophie': 13L,\n",
       "  'sophie!highly': 1L,\n",
       "  \"sophie's\": 3L,\n",
       "  'sophie,': 2L,\n",
       "  'sophie.': 1L,\n",
       "  'spots': 1L,\n",
       "  'squeak': 1L,\n",
       "  'squeaks': 1L,\n",
       "  'squeals': 1L,\n",
       "  'st': 1L,\n",
       "  'starting': 1L,\n",
       "  'stimulates': 1L,\n",
       "  'sturdy': 1L,\n",
       "  'tall': 1L,\n",
       "  'teeth.': 1L,\n",
       "  'teething.': 1L,\n",
       "  'that': 8L,\n",
       "  'the': 14L,\n",
       "  'their': 1L,\n",
       "  'there': 1L,\n",
       "  'thing': 1L,\n",
       "  'thus': 1L,\n",
       "  'time': 2L,\n",
       "  'to': 13L,\n",
       "  'tough.': 1L,\n",
       "  'toy': 1L,\n",
       "  'twist': 1L,\n",
       "  'twist.': 1L,\n",
       "  'unheard': 1L,\n",
       "  'very': 1L,\n",
       "  'violet': 3L,\n",
       "  \"violet's\": 2L,\n",
       "  'violet.': 2L,\n",
       "  'viva': 1L,\n",
       "  'was': 3L,\n",
       "  'well': 1L,\n",
       "  'what': 1L,\n",
       "  'who': 1L,\n",
       "  'why': 1L,\n",
       "  'with': 1L,\n",
       "  'wondered': 1L,\n",
       "  'wonderful': 2L,\n",
       "  'world.': 1L,\n",
       "  'year': 1L,\n",
       "  'you': 1L,\n",
       "  'your': 1L}}"
      ]
     },
     "execution_count": 138,
     "metadata": {},
     "output_type": "execute_result"
    }
   ],
   "source": [
    "giraffe_reviews[0]"
   ]
  },
  {
   "cell_type": "code",
   "execution_count": 139,
   "metadata": {},
   "outputs": [
    {
     "data": {
      "text/plain": [
       "\"I'm not sure why Sophie is such a hit with the little ones, but my 7 month old baby girl is one of her adoring fans.  The rubber is softer and more pleasant to handle, and my daughter has enjoyed chewing on her legs and the nubs on her head even before she started teething.  She also loves the squeak that Sophie makes when you squeeze her.  Not sure what it is but if Sophie is amongst a pile of her other toys, my daughter will more often than not reach for Sophie.  And I have the peace of mind of knowing that only edible and safe paints and materials have been used to make Sophie, as opposed to Bright Starts and other baby toys made in China.  Now that the research is out on phthalates and other toxic substances in baby toys, I think it's more important than ever to find good quality toys that are also safe for our babies to handle and put in their mouths.  Sophie is a must-have for every new mom in my opinion.  Even if your kid is one of the few that can take or leave her, it's worth a try.  Vulli, the makers of Sophie, also make natural rubber teething rings that my daughter loves as well.\""
      ]
     },
     "execution_count": 139,
     "metadata": {},
     "output_type": "execute_result"
    }
   ],
   "source": [
    "giraffe_reviews[1]['review']"
   ]
  },
  {
   "cell_type": "code",
   "execution_count": 140,
   "metadata": {
    "collapsed": true
   },
   "outputs": [],
   "source": [
    "#Show most negative reviews"
   ]
  },
  {
   "cell_type": "code",
   "execution_count": 141,
   "metadata": {},
   "outputs": [
    {
     "data": {
      "text/plain": [
       "\"My son (now 2.5) LOVED his Sophie, and I bought one for every baby shower I've gone to. Now, my daughter (6 months) just today nearly choked on it and I will never give it to her again. Had I not been within hearing range it could have been fatal. The strange sound she was making caught my attention and when I went to her and found the front curved leg shoved well down her throat and her face a purply/blue I panicked. I pulled it out and she vomited all over the carpet before screaming her head off. I can't believe how my opinion of this toy has changed from a must-have to a must-not-use. Please don't disregard any of the choking hazard comments, they are not over exaggerated!\""
      ]
     },
     "execution_count": 141,
     "metadata": {},
     "output_type": "execute_result"
    }
   ],
   "source": [
    "giraffe_reviews[-1]['review']"
   ]
  },
  {
   "cell_type": "code",
   "execution_count": 143,
   "metadata": {},
   "outputs": [],
   "source": [
    "#---------------------------------------- Exercice -------------------------------------\n",
    "#---------------------------------------------------------------------------------------\n",
    "#Read some product review\n",
    "products=gl.SFrame('C:/Users/sadaouih/Desktop/Machine learning specialization/Machine Learning Foundations/Week 3/amazon_baby.gl/')"
   ]
  },
  {
   "cell_type": "code",
   "execution_count": 144,
   "metadata": {},
   "outputs": [],
   "source": [
    "products['word_count']=gl.text_analytics.count_words(products['review'])\n",
    "gl.canvas.set_target('ipynb')"
   ]
  }
 ],
 "metadata": {
  "kernelspec": {
   "display_name": "Python 3",
   "language": "python",
   "name": "python3"
  },
  "language_info": {
   "codemirror_mode": {
    "name": "ipython",
    "version": 3
   },
   "file_extension": ".py",
   "mimetype": "text/x-python",
   "name": "python",
   "nbconvert_exporter": "python",
   "pygments_lexer": "ipython3",
   "version": "3.5.5"
  }
 },
 "nbformat": 4,
 "nbformat_minor": 1
}
